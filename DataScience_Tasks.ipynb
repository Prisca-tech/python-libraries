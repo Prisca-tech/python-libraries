{
 "cells": [
  {
   "cell_type": "markdown",
   "id": "af4ce8d0",
   "metadata": {},
   "source": [
    "# Data Science Tasks\n",
    "Performing common data science tasks using NumPy, Pandas, Requests, and Matplotlib."
   ]
  },
  {
   "cell_type": "code",
   "execution_count": null,
   "id": "5148f550",
   "metadata": {},
   "outputs": [],
   "source": [
    "import numpy as np\n",
    "\n",
    "# Create a NumPy array from 1 to 10 and calculate the mean\n",
    "arr = np.arange(1, 11)\n",
    "mean_val = np.mean(arr)\n",
    "print(\"Mean of numbers 1 to 10:\", mean_val)\n"
   ]
  },
  {
   "cell_type": "code",
   "execution_count": null,
   "id": "fc750857",
   "metadata": {},
   "outputs": [],
   "source": [
    "import pandas as pd\n",
    "\n",
    "# Create a small dataset and load into a DataFrame\n",
    "data = {\n",
    "    'Name': ['Alice', 'Bob', 'Charlie'],\n",
    "    'Age': [25, 30, 35],\n",
    "    'Score': [85, 90, 95]\n",
    "}\n",
    "df = pd.DataFrame(data)\n",
    "\n",
    "# Display summary statistics\n",
    "print(\"Summary statistics:\")\n",
    "print(df.describe())\n"
   ]
  },
  {
   "cell_type": "code",
   "execution_count": null,
   "id": "89e2cc0f",
   "metadata": {},
   "outputs": [],
   "source": [
    "import requests\n",
    "\n",
    "# Fetch data from a public API (global COVID-19 data)\n",
    "url = \"https://disease.sh/v3/covid-19/all\"\n",
    "\n",
    "response = requests.get(url)\n",
    "\n",
    "#check if request was successful\n",
    "if response.status_code == 200:\n",
    "    data = response.json()\n",
    "    print(f\"🌍 Global COVID-19 Cases: {data['cases']}\")\n",
    "    print(f\"🧪 Today's Cases: {data['todayCases']}\")\n",
    "    print(f\"💀 Total Deaths: {data['deaths']}\")\n",
    "else:\n",
    "    print(\"Failed to fetch COVID-19 data:\", response.status_code)\n"
   ]
  },
  {
   "cell_type": "code",
   "execution_count": null,
   "id": "62ef6f3f",
   "metadata": {},
   "outputs": [],
   "source": [
    "import matplotlib.pyplot as plt\n",
    "\n",
    "# Plot a simple line graph\n",
    "x = [1, 2, 3, 4, 5]\n",
    "y = [2, 3, 5, 7, 11]\n",
    "\n",
    "plt.plot(x, y, marker='o')\n",
    "plt.title(\"Simple Line Graph\")\n",
    "plt.xlabel(\"X-axis\")\n",
    "plt.ylabel(\"Y-axis\")\n",
    "plt.grid(True)\n",
    "plt.show()\n"
   ]
  }
 ],
 "metadata": {
  "language_info": {
   "name": "python"
  }
 },
 "nbformat": 4,
 "nbformat_minor": 5
}
